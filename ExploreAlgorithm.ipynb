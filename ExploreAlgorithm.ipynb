{
 "cells": [
  {
   "cell_type": "markdown",
   "metadata": {},
   "source": [
    "# Step 1 - Explore the Algorithm\n",
    "\n",
    "In this notebook you will get an overview of the reinforcement learning algorithm being used for this experiment and the implementation of distributed learning. This is not a tutorial on the basics of reinforcement learning - for a good introduction to the basics, see [this tutorial](https://medium.freecodecamp.org/deep-reinforcement-learning-where-to-start-291fb0058c01). Our algorithm is modeled after [this deep Q-learning algorithm from Google DeepMind](https://storage.googleapis.com/deepmind-media/dqn/DQNNaturePaper.pdf) which has seen success in learning to play Atari video games.\n",
    "\n",
    "If you are just looking to run the model training without exploring the algorithm, you can skip ahead to **[Step 2 - Launch the Training Job](LaunchTrainingJob.ipynb)** if you are running this on a cluster or **[Step 2A: Launch Local Training Job](LaunchLocalTrainingJob.ipynb)** if you are running this locally.\n",
    "\n",
    "At this point, **[please start the AirSim executable](README.md#simulator-package)** on your local machine as the code presented in this notebook needs to connect to the executable to generate images. \n",
    "\n",
    "First, let's import some libraries."
   ]
  },
  {
   "cell_type": "code",
   "execution_count": 1,
   "metadata": {
    "scrolled": true
   },
   "outputs": [
    {
     "name": "stderr",
     "output_type": "stream",
     "text": [
      "Using TensorFlow backend.\n",
      "C:\\Miniconda\\envs\\Alpaca\\lib\\site-packages\\tensorflow\\python\\framework\\dtypes.py:523: FutureWarning: Passing (type, 1) or '1type' as a synonym of type is deprecated; in a future version of numpy, it will be understood as (type, (1,)) / '(1,)type'.\n",
      "  _np_qint8 = np.dtype([(\"qint8\", np.int8, 1)])\n",
      "C:\\Miniconda\\envs\\Alpaca\\lib\\site-packages\\tensorflow\\python\\framework\\dtypes.py:524: FutureWarning: Passing (type, 1) or '1type' as a synonym of type is deprecated; in a future version of numpy, it will be understood as (type, (1,)) / '(1,)type'.\n",
      "  _np_quint8 = np.dtype([(\"quint8\", np.uint8, 1)])\n",
      "C:\\Miniconda\\envs\\Alpaca\\lib\\site-packages\\tensorflow\\python\\framework\\dtypes.py:525: FutureWarning: Passing (type, 1) or '1type' as a synonym of type is deprecated; in a future version of numpy, it will be understood as (type, (1,)) / '(1,)type'.\n",
      "  _np_qint16 = np.dtype([(\"qint16\", np.int16, 1)])\n",
      "C:\\Miniconda\\envs\\Alpaca\\lib\\site-packages\\tensorflow\\python\\framework\\dtypes.py:526: FutureWarning: Passing (type, 1) or '1type' as a synonym of type is deprecated; in a future version of numpy, it will be understood as (type, (1,)) / '(1,)type'.\n",
      "  _np_quint16 = np.dtype([(\"quint16\", np.uint16, 1)])\n",
      "C:\\Miniconda\\envs\\Alpaca\\lib\\site-packages\\tensorflow\\python\\framework\\dtypes.py:527: FutureWarning: Passing (type, 1) or '1type' as a synonym of type is deprecated; in a future version of numpy, it will be understood as (type, (1,)) / '(1,)type'.\n",
      "  _np_qint32 = np.dtype([(\"qint32\", np.int32, 1)])\n",
      "C:\\Miniconda\\envs\\Alpaca\\lib\\site-packages\\tensorflow\\python\\framework\\dtypes.py:532: FutureWarning: Passing (type, 1) or '1type' as a synonym of type is deprecated; in a future version of numpy, it will be understood as (type, (1,)) / '(1,)type'.\n",
      "  np_resource = np.dtype([(\"resource\", np.ubyte, 1)])\n"
     ]
    }
   ],
   "source": [
    "%matplotlib inline\n",
    "\n",
    "from AirSimClient import *\n",
    "import numpy as np\n",
    "import time\n",
    "import sys\n",
    "import json\n",
    "import matplotlib.pyplot as plt\n",
    "from IPython.display import clear_output\n",
    "import time\n",
    "import PIL\n",
    "import PIL.ImageFilter\n",
    "\n",
    "from keras.preprocessing.image import ImageDataGenerator\n",
    "from keras.models import Sequential, Model, clone_model, load_model\n",
    "from keras.layers import Conv2D, MaxPooling2D, Dropout, Flatten, Dense, Lambda, Input, concatenate\n",
    "from keras.layers.normalization import BatchNormalization\n",
    "from keras.layers.advanced_activations import ELU\n",
    "from keras.optimizers import Adam, SGD, Adamax, Nadam, Adagrad, Adadelta\n",
    "from keras.callbacks import ReduceLROnPlateau, ModelCheckpoint, CSVLogger, EarlyStopping\n",
    "import keras.backend as K\n",
    "from keras.preprocessing import image\n",
    "from keras.initializers import random_normal\n",
    "\n",
    "if ('../../PythonClient/' not in sys.path):\n",
    "    sys.path.insert(0, '../../PythonClient/')"
   ]
  },
  {
   "cell_type": "markdown",
   "metadata": {},
   "source": [
    "## The reward function\n",
    "\n",
    "One of the critical decisions to make when desigining a reinforcement learning experiment is the definition of the reward function. For this tutorial, we define a very simple reward function which only takes into account the position of the car. In the experiment, the optimal position for our car is the center of the road, so we want to assign a high reward when the car is in the center, and a low reward when it is closer to the edge. We also want our reward function to be bounded in the range [0, 1] as it will be easier for our model to learn values within that range.\n",
    "\n",
    "> **Thought Exercise 1.1:** \n",
    "As you will soon see, the reward function defined here is very basic and doesn't take into account some important parameters. Can you point out some obvious considerations this reward function overlooks?\n",
    "\n",
    "> **Thought Exercise 1.2:** \n",
    "The next time you are out for a drive, take note of how things happening around you on the road (the behavoir of other vehicles and pedestrians, traffic laws, roadsigns etc), the state of your car (your current speed, steering angle, acceleration etc) and your mental state (the urgency of getting to your destination, your overall stress/frustration level etc) result in you making decisions on the road. Reinforcement learning is unique as it is inspired by the behavioral psychology of human beings and animals. If you were to write a reward function for how you drive in real life, what would it look like?\n",
    "\n",
    "To compute our reward function, we begin by computing the distance to the center of the nearest road. We then pass that distance through an exponential weighting function to force this portion to the range [0, 1]. The full definition of the reward function can be seen below."
   ]
  },
  {
   "cell_type": "code",
   "execution_count": 2,
   "metadata": {},
   "outputs": [],
   "source": [
    "def compute_reward(car_state, collision_info, road_points):\n",
    "    #Define some constant parameters for the reward function\n",
    "    THRESH_DIST = 3.5                # The maximum distance from the center of the road to compute the reward function\n",
    "    DISTANCE_DECAY_RATE = 1.2        # The rate at which the reward decays for the distance function\n",
    "    CENTER_SPEED_MULTIPLIER = 2.0    # The ratio at which we prefer the distance reward to the speed reward\n",
    "    \n",
    "    # If the car is stopped, the reward is always zero\n",
    "    speed = car_state.speed\n",
    "    if (speed < 2):\n",
    "        return 0\n",
    "    \n",
    "    #Get the car position\n",
    "    position_key = bytes('position', encoding='utf8')\n",
    "    x_val_key = bytes('x_val', encoding='utf8')\n",
    "    y_val_key = bytes('y_val', encoding='utf8')\n",
    "\n",
    "    car_point = np.array([car_state.kinematics_true[position_key][x_val_key], car_state.kinematics_true[position_key][y_val_key], 0])\n",
    "    \n",
    "    # Distance component is exponential distance to nearest line\n",
    "    distance = 999\n",
    "    \n",
    "    #Compute the distance to the nearest center line\n",
    "    for line in road_points:\n",
    "        local_distance = 0\n",
    "        length_squared = ((line[0][0]-line[1][0])**2) + ((line[0][1]-line[1][1])**2)\n",
    "        if (length_squared != 0):\n",
    "            t = max(0, min(1, np.dot(car_point-line[0], line[1]-line[0]) / length_squared))\n",
    "            proj = line[0] + (t * (line[1]-line[0]))\n",
    "            local_distance = np.linalg.norm(proj - car_point)\n",
    "        \n",
    "        distance = min(distance, local_distance)\n",
    "        \n",
    "    distance_reward = math.exp(-(distance * DISTANCE_DECAY_RATE))\n",
    "    \n",
    "    return distance_reward"
   ]
  },
  {
   "cell_type": "markdown",
   "metadata": {},
   "source": [
    "To visualize how our reward function works, we can plot the car state and print the reward function. In the figure below, the black lines are the precomputed centers of each road, and the blue dot is the current position of the car. At the intersections, we define a few possible paths that the car can take. As you drive the car around (using the keyboard), you will see the reward function change."
   ]
  },
  {
   "cell_type": "code",
   "execution_count": 3,
   "metadata": {
    "scrolled": false
   },
   "outputs": [
    {
     "name": "stdout",
     "output_type": "stream",
     "text": [
      "Current reward: 0.00\n",
      "\n"
     ]
    }
   ],
   "source": [
    "plt.figure()\n",
    "   \n",
    "# Reads in the reward function lines\n",
    "def init_reward_points():\n",
    "    road_points = []\n",
    "    with open('Share\\\\data\\\\reward_points.txt', 'r') as f:\n",
    "        for line in f:\n",
    "            point_values = line.split('\\t')\n",
    "            first_point = np.array([float(point_values[0]), float(point_values[1]), 0])\n",
    "            second_point = np.array([float(point_values[2]), float(point_values[3]), 0])\n",
    "            road_points.append(tuple((first_point, second_point)))\n",
    "\n",
    "    return road_points\n",
    "\n",
    "#Draws the car location plot\n",
    "def draw_rl_debug(car_state, road_points):\n",
    "    fig = plt.figure(figsize=(10,10))\n",
    "    print('')\n",
    "    for point in road_points:\n",
    "        plt.plot([point[0][0], point[1][0]], [point[0][1], point[1][1]], 'k-', lw=2)\n",
    "    \n",
    "    position_key = bytes('position', encoding='utf8')\n",
    "    x_val_key = bytes('x_val', encoding='utf8')\n",
    "    y_val_key = bytes('y_val', encoding='utf8')\n",
    "    \n",
    "    car_point = np.array([car_state.kinematics_true[position_key][x_val_key], car_state.kinematics_true[position_key][y_val_key], 0])\n",
    "    plt.plot([car_point[0]], [car_point[1]], 'bo')\n",
    "    \n",
    "    plt.show()\n",
    "    \n",
    "reward_points = init_reward_points()\n",
    "    \n",
    "car_client = CarClient()\n",
    "car_client.confirmConnection()\n",
    "car_client.enableApiControl(False)\n",
    "print('Connected!')\n",
    "\n",
    "try:\n",
    "    while(True):\n",
    "        clear_output(wait=True)\n",
    "        car_state = car_client.getCarState()\n",
    "        collision_info = car_client.getCollisionInfo()\n",
    "        reward = compute_reward(car_state, collision_info, reward_points)\n",
    "        print('Current reward: {0:.2f}'.format(reward))\n",
    "        draw_rl_debug(car_state, reward_points)\n",
    "        time.sleep(1)\n",
    "\n",
    "#Handle interrupt gracefully\n",
    "except:\n",
    "    pass"
   ]
  },
  {
   "cell_type": "markdown",
   "metadata": {},
   "source": [
    "## Network architecture and transfer learning\n",
    "\n",
    "Our model uses images from the front facing webcam as input. As we did in our end-to-end model, we select a small sub-portion of the image to feed to the model. This reduces the number of parameters in our model, making it train faster.\n",
    "\n",
    "The code below will take an image from AirSim, apply the preprocessing functions, and display it below."
   ]
  },
  {
   "cell_type": "code",
   "execution_count": 4,
   "metadata": {},
   "outputs": [
    {
     "name": "stdout",
     "output_type": "stream",
     "text": [
      "Waiting for connection: \n",
      "144 256\n"
     ]
    },
    {
     "data": {
      "image/png": "[encoded data removed]",
      "text/plain": [
       "<Figure size 432x288 with 1 Axes>"
      ]
     },
     "metadata": {
      "needs_background": "light"
     },
     "output_type": "display_data"
    }
   ],
   "source": [
    "def get_image(car_client):\n",
    "        image_response = car_client.simGetImages([ImageRequest(0, AirSimImageType.Scene, False, False)])[0]\n",
    "        image1d = np.frombuffer(image_response.image_data_uint8, dtype=np.uint8)\n",
    "        image_rgba = image1d.reshape(image_response.height, image_response.width, 4)\n",
    "        print(image_response.height, image_response.width)\n",
    "        \n",
    "        return image_rgba[76:135,0:255,0:3]\n",
    "\n",
    "car_client = CarClient()\n",
    "car_client.confirmConnection()\n",
    "image = get_image(car_client)\n",
    "\n",
    "image = plt.imshow(image) "
   ]
  },
  {
   "cell_type": "markdown",
   "metadata": {},
   "source": [
    "We utilize a very similar network architecture to the one used in our [end-to-end deep learning tutorial](https://github.com/Microsoft/AutonomousDrivingCookbook/tree/master/AirSimE2EDeepLearning) with three convolution layers. The input to the network is a single image frame taken from the front-facing webcam. The output is the predicted Q values for each of the possible actions that the model can take. The full network architecture is defined in the code snippet below.\n",
    "\n",
    "You can go about the training process in one of two ways. You can train your model ground up, which would mean you will kick off your training with random weights and see random behavior in your car as it tries to learn how to steer itself on the road. This random behaviour will eventually turn into more expected behavior and you will be able to see the car learn how to make turns and and stay on the road. This could take up days to train however.\n",
    "\n",
    "You could take a diferrent approach to speed things up a little bit though. Using a technique called [Transfer Learning](https://journalofbigdata.springeropen.com/articles/10.1186/s40537-016-0043-6) you can leverage knowledge from a model you  trained previously and apply it to this model. Transfer learning works on a very simple concept: using existing knowledge to learn new related things instead of learning them from scratch. The technique has become very popular for tasks like image classification where instead of training image classifiers from scratch for a given use case (which can require a very large amount of data), you take learned features from an existing network (VGGNet, ResNet, GoogleNet etc) and fine tune them to your use case using a much smaller amount of data.\n",
    "\n",
    "Luckily for us, we already have a model that learned how to steer itself on the road (see the [end-to-end deep learning tutorial](https://github.com/Microsoft/AutonomousDrivingCookbook/tree/master/AirSimE2EDeepLearning)). Even though we trained that model in a different simulation environment, the mechanics of data collection remain the same. The two tasks are quite similar which makes this a perfect candidate for transfer learning. If you decide to go the transfer learning route, you will notice that the initial behaviour of the car is much less random. It still won't drive perfectly since one, our end-to-end model was not the best possible version of itself to begin with, and two, it has never seen elements like other cars, houses etc. in its environment which throw it off. This is still much better than starting from scratch though, and you will see that this technique will help your model converge much faster."
   ]
  },
  {
   "cell_type": "code",
   "execution_count": 5,
   "metadata": {},
   "outputs": [
    {
     "name": "stdout",
     "output_type": "stream",
     "text": [
      "_________________________________________________________________\n",
      "Layer (type)                 Output Shape              Param #   \n",
      "=================================================================\n",
      "input_1 (InputLayer)         (None, 59, 255, 3)        0         \n",
      "_________________________________________________________________\n",
      "convolution0 (Conv2D)        (None, 59, 255, 16)       448       \n",
      "_________________________________________________________________\n",
      "max_pooling2d_1 (MaxPooling2 (None, 29, 127, 16)       0         \n",
      "_________________________________________________________________\n",
      "convolution1 (Conv2D)        (None, 29, 127, 32)       4640      \n",
      "_________________________________________________________________\n",
      "max_pooling2d_2 (MaxPooling2 (None, 14, 63, 32)        0         \n",
      "_________________________________________________________________\n",
      "convolution2 (Conv2D)        (None, 14, 63, 32)        9248      \n",
      "_________________________________________________________________\n",
      "max_pooling2d_3 (MaxPooling2 (None, 7, 31, 32)         0         \n",
      "_________________________________________________________________\n",
      "flatten_1 (Flatten)          (None, 6944)              0         \n",
      "_________________________________________________________________\n",
      "dropout_1 (Dropout)          (None, 6944)              0         \n",
      "_________________________________________________________________\n",
      "rl_dense (Dense)             (None, 128)               888960    \n",
      "_________________________________________________________________\n",
      "dropout_2 (Dropout)          (None, 128)               0         \n",
      "_________________________________________________________________\n",
      "rl_output (Dense)            (None, 5)                 645       \n",
      "=================================================================\n",
      "Total params: 903,941\n",
      "Trainable params: 889,605\n",
      "Non-trainable params: 14,336\n",
      "_________________________________________________________________\n"
     ]
    }
   ],
   "source": [
    "activation = 'relu'\n",
    "\n",
    "# The main model input.\n",
    "pic_input = Input(shape=(59,255,3))\n",
    "train_conv_layers = False # For transfer learning, set to True if training ground up.\n",
    "\n",
    "img_stack = Conv2D(16, (3, 3), name='convolution0', padding='same', activation=activation, trainable=train_conv_layers)(pic_input)\n",
    "img_stack = MaxPooling2D(pool_size=(2,2))(img_stack)\n",
    "img_stack = Conv2D(32, (3, 3), activation=activation, padding='same', name='convolution1', trainable=train_conv_layers)(img_stack)\n",
    "img_stack = MaxPooling2D(pool_size=(2, 2))(img_stack)\n",
    "img_stack = Conv2D(32, (3, 3), activation=activation, padding='same', name='convolution2', trainable=train_conv_layers)(img_stack)\n",
    "img_stack = MaxPooling2D(pool_size=(2, 2))(img_stack)\n",
    "img_stack = Flatten()(img_stack)\n",
    "img_stack = Dropout(0.2)(img_stack)\n",
    "\n",
    "img_stack = Dense(128, name='rl_dense', kernel_initializer=random_normal(stddev=0.01))(img_stack)\n",
    "img_stack=Dropout(0.2)(img_stack)\n",
    "output = Dense(5, name='rl_output', kernel_initializer=random_normal(stddev=0.01))(img_stack)\n",
    "\n",
    "opt = Adam()\n",
    "action_model = Model(inputs=[pic_input], outputs=output)\n",
    "\n",
    "action_model.compile(optimizer=opt, loss='mean_squared_error')\n",
    "action_model.summary()"
   ]
  },
  {
   "cell_type": "markdown",
   "metadata": {},
   "source": [
    "Now that you have an understanding of the algorithm details, you are ready to move on to **[Step 2 - Launch the Training Job](LaunchTrainingJob.ipynb)** if you are running this on a cluster or **[Step 2A: Launch Local Training Job](LaunchLocalTrainingJob.ipynb)** if you are running this locally."
   ]
  },
  {
   "cell_type": "code",
   "execution_count": null,
   "metadata": {},
   "outputs": [],
   "source": []
  },
  {
   "cell_type": "code",
   "execution_count": null,
   "metadata": {},
   "outputs": [],
   "source": []
  },
  {
   "cell_type": "code",
   "execution_count": null,
   "metadata": {},
   "outputs": [],
   "source": []
  }
 ],
 "metadata": {
  "kernelspec": {
   "display_name": "Python 3",
   "language": "python",
   "name": "python3"
  },
  "language_info": {
   "codemirror_mode": {
    "name": "ipython",
    "version": 3
   },
   "file_extension": ".py",
   "mimetype": "text/x-python",
   "name": "python",
   "nbconvert_exporter": "python",
   "pygments_lexer": "ipython3",
   "version": "3.6.10"
  }
 },
 "nbformat": 4,
 "nbformat_minor": 2
}
